{
 "cells": [
  {
   "cell_type": "code",
   "execution_count": 1,
   "metadata": {},
   "outputs": [],
   "source": [
    "from box import Box\n",
    "cfg = Box(\n",
    "    {\n",
    "        'model': 'MLP',\n",
    "        'dataset': {\n",
    "            'name': 'mnist',\n",
    "            'num_clients': 10,\n",
    "            'split_type': 'iid',\n",
    "            'require_local_test': True,\n",
    "            'global_local_ratio': 0.5,\n",
    "            'val': False,\n",
    "        },\n",
    "        'train': {\n",
    "            'algorithm': 'FedAvg',\n",
    "            'num_clients_per_round': 3,\n",
    "            'local_rounds': 3,\n",
    "            'epochs': 10,\n",
    "            'optimizer': 'SGD',\n",
    "            'lr': 0.001,\n",
    "            'device': 'cuda',\n",
    "        },\n",
    "        'loader':{\n",
    "            'train_batch_size': 64,\n",
    "            'eval_batch_size': 1000,\n",
    "        }\n",
    "        \n",
    "    }\n",
    ")"
   ]
  },
  {
   "cell_type": "code",
   "execution_count": 2,
   "metadata": {},
   "outputs": [
    {
     "name": "stdout",
     "output_type": "stream",
     "text": [
      "trainset: 60000 | testset 10000\n"
     ]
    }
   ],
   "source": [
    "from datasets import load_dataset\n",
    "from box import Box\n",
    "# No validation set as we do not need temprature scalling now.\n",
    "trainset, testset, valset = load_dataset(\n",
    "    data_cfg=cfg.dataset)\n",
    "print(f'trainset: {len(trainset)} | testset {len(testset)}' )"
   ]
  },
  {
   "cell_type": "markdown",
   "metadata": {},
   "source": [
    "Split the datasets-IID"
   ]
  },
  {
   "cell_type": "code",
   "execution_count": 3,
   "metadata": {},
   "outputs": [
    {
     "name": "stdout",
     "output_type": "stream",
     "text": [
      "Splitting dataset into 10 clients.\n",
      "{0: 6000, 1: 6000, 2: 6000, 3: 6000, 4: 6000, 5: 6000, 6: 6000, 7: 6000, 8: 6000, 9: 6000}\n",
      "Splitting dataset into 10 clients.\n",
      "{0: 500, 1: 500, 2: 500, 3: 500, 4: 500, 5: 500, 6: 500, 7: 500, 8: 500, 9: 500}\n"
     ]
    }
   ],
   "source": [
    "from split import IIDSplitter\n",
    "splitter = IIDSplitter(cfg.dataset.num_clients)\n",
    "train_data_map = splitter.split(trainset, train=True, local=False)\n",
    "test_data_map = splitter.split(testset, train=False, local=True,\n",
    "                               global_local_ratio=0.5)"
   ]
  },
  {
   "cell_type": "markdown",
   "metadata": {},
   "source": [
    "initialize models"
   ]
  },
  {
   "cell_type": "code",
   "execution_count": 4,
   "metadata": {},
   "outputs": [
    {
     "name": "stdout",
     "output_type": "stream",
     "text": [
      "MLP(\n",
      "  (layers): ModuleList(\n",
      "    (0): Linear(in_features=1024, out_features=512, bias=True)\n",
      "    (1): ReLU()\n",
      "    (2): Linear(in_features=512, out_features=512, bias=True)\n",
      "    (3): ReLU()\n",
      "    (4): Linear(in_features=512, out_features=10, bias=True)\n",
      "  )\n",
      ")\n"
     ]
    }
   ],
   "source": [
    "from model import ModelFactory\n",
    "model = ModelFactory().create_model(cfg)\n",
    "print(model)"
   ]
  },
  {
   "cell_type": "code",
   "execution_count": 5,
   "metadata": {},
   "outputs": [],
   "source": [
    "from algorithm import FedAvg\n",
    "from torch.optim import SGD, Adam\n",
    "fedavg = FedAvg(\n",
    "    model = model,\n",
    "    num_clients=cfg.dataset.num_clients,\n",
    "    num_clients_per_round=cfg.train.num_clients_per_round,\n",
    "    local_rounds=cfg.train.local_rounds, epochs=cfg.train.epochs,\n",
    "    optimizer=cfg.train.optimizer, lr=cfg.train.lr,\n",
    "    device=cfg.train.device,\n",
    "    trainset=trainset, testset=testset, valset=valset,\n",
    "    local_test=True, local_val=False,\n",
    "    train_data_map=train_data_map, test_data_map=test_data_map,\n",
    "    valid_data_map=None,\n",
    "    train_batch_size=cfg.loader.train_batch_size,\n",
    "    eval_batch_size=cfg.loader.eval_batch_size\n",
    ")"
   ]
  },
  {
   "cell_type": "code",
   "execution_count": 6,
   "metadata": {},
   "outputs": [
    {
     "name": "stdout",
     "output_type": "stream",
     "text": [
      "Global round 1 started\n",
      "Client 2 started local training\n",
      "Client 2 local round 1/3\n"
     ]
    },
    {
     "name": "stderr",
     "output_type": "stream",
     "text": [
      "100%|██████████| 94/94 [00:03<00:00, 28.39it/s, Running Average Loss=2.1087]\n"
     ]
    },
    {
     "name": "stdout",
     "output_type": "stream",
     "text": [
      "Client 2 local round 2/3\n"
     ]
    },
    {
     "name": "stderr",
     "output_type": "stream",
     "text": [
      "100%|██████████| 94/94 [00:01<00:00, 63.68it/s, Running Average Loss=1.3975]\n"
     ]
    },
    {
     "name": "stdout",
     "output_type": "stream",
     "text": [
      "Client 2 local round 3/3\n"
     ]
    },
    {
     "name": "stderr",
     "output_type": "stream",
     "text": [
      "100%|██████████| 94/94 [00:01<00:00, 63.46it/s, Running Average Loss=0.7983]\n"
     ]
    },
    {
     "name": "stdout",
     "output_type": "stream",
     "text": [
      "Client 2 finished local training\n",
      "Local Training {'average_loss': 0.0006557872196038564, 'accuracy': 0.8488333333333333}\n",
      "MulticlassAccuracy: 0.8119308948516846\n",
      "MulticlassCalibrationError: 0.23069055378437042\n",
      "Local Test: {'MulticlassAccuracy': 0.8119308948516846, 'MulticlassCalibrationError': 0.23069055378437042}\n",
      "Client 9 started local training\n",
      "Client 9 local round 1/3\n"
     ]
    },
    {
     "name": "stderr",
     "output_type": "stream",
     "text": [
      "100%|██████████| 94/94 [00:01<00:00, 62.54it/s, Running Average Loss=2.0382]\n"
     ]
    },
    {
     "name": "stdout",
     "output_type": "stream",
     "text": [
      "Client 9 local round 2/3\n"
     ]
    },
    {
     "name": "stderr",
     "output_type": "stream",
     "text": [
      "100%|██████████| 94/94 [00:01<00:00, 63.18it/s, Running Average Loss=1.1614]\n"
     ]
    },
    {
     "name": "stdout",
     "output_type": "stream",
     "text": [
      "Client 9 local round 3/3\n"
     ]
    },
    {
     "name": "stderr",
     "output_type": "stream",
     "text": [
      "100%|██████████| 94/94 [00:01<00:00, 63.88it/s, Running Average Loss=0.6046]\n"
     ]
    },
    {
     "name": "stdout",
     "output_type": "stream",
     "text": [
      "Client 9 finished local training\n",
      "Local Training {'average_loss': 0.00048611686130364736, 'accuracy': 0.8905}\n",
      "MulticlassAccuracy: 0.8219518661499023\n",
      "MulticlassCalibrationError: 0.1708812266588211\n",
      "Local Test: {'MulticlassAccuracy': 0.8219518661499023, 'MulticlassCalibrationError': 0.1708812266588211}\n",
      "Client 8 started local training\n",
      "Client 8 local round 1/3\n"
     ]
    },
    {
     "name": "stderr",
     "output_type": "stream",
     "text": [
      "100%|██████████| 94/94 [00:01<00:00, 60.65it/s, Running Average Loss=2.0670]\n"
     ]
    },
    {
     "name": "stdout",
     "output_type": "stream",
     "text": [
      "Client 8 local round 2/3\n"
     ]
    },
    {
     "name": "stderr",
     "output_type": "stream",
     "text": [
      "100%|██████████| 94/94 [00:01<00:00, 63.60it/s, Running Average Loss=1.2822]\n"
     ]
    },
    {
     "name": "stdout",
     "output_type": "stream",
     "text": [
      "Client 8 local round 3/3\n"
     ]
    },
    {
     "name": "stderr",
     "output_type": "stream",
     "text": [
      "100%|██████████| 94/94 [00:01<00:00, 62.73it/s, Running Average Loss=0.7183]\n"
     ]
    },
    {
     "name": "stdout",
     "output_type": "stream",
     "text": [
      "Client 8 finished local training\n",
      "Local Training {'average_loss': 0.0005895339945952097, 'accuracy': 0.8533333333333334}\n",
      "MulticlassAccuracy: 0.8204490542411804\n",
      "MulticlassCalibrationError: 0.1793261468410492\n",
      "Local Test: {'MulticlassAccuracy': 0.8204490542411804, 'MulticlassCalibrationError': 0.1793261468410492}\n",
      "All clients finished local training\n",
      "Aggregating global model\n",
      "MulticlassAccuracy: 0.8421181201934814\n",
      "MulticlassCalibrationError: 0.17298672199249268\n",
      "Global Test: {'MulticlassAccuracy': 0.8421181201934814, 'MulticlassCalibrationError': 0.17298672199249268}\n"
     ]
    },
    {
     "ename": "TypeError",
     "evalue": "'NoneType' object is not subscriptable",
     "output_type": "error",
     "traceback": [
      "\u001b[1;31m---------------------------------------------------------------------------\u001b[0m",
      "\u001b[1;31mTypeError\u001b[0m                                 Traceback (most recent call last)",
      "Cell \u001b[1;32mIn[6], line 1\u001b[0m\n\u001b[1;32m----> 1\u001b[0m \u001b[43mfedavg\u001b[49m\u001b[38;5;241;43m.\u001b[39;49m\u001b[43mrun\u001b[49m\u001b[43m(\u001b[49m\u001b[43m)\u001b[49m\n",
      "File \u001b[1;32mc:\\Users\\HONGYI001\\Desktop\\Calibration\\algorithm.py:200\u001b[0m, in \u001b[0;36mFedAvg.run\u001b[1;34m(self)\u001b[0m\n\u001b[0;32m    198\u001b[0m \u001b[39melse\u001b[39;00m:\n\u001b[0;32m    199\u001b[0m     \u001b[39mprint\u001b[39m(\u001b[39m'\u001b[39m\u001b[39mno global test data\u001b[39m\u001b[39m'\u001b[39m)\n\u001b[1;32m--> 200\u001b[0m \u001b[39mif\u001b[39;00m \u001b[39mself\u001b[39;49m\u001b[39m.\u001b[39;49mval_data_map[\u001b[39m'\u001b[39;49m\u001b[39mglobal_idx\u001b[39;49m\u001b[39m'\u001b[39;49m]:\n\u001b[0;32m    201\u001b[0m     global_val_subset \u001b[39m=\u001b[39m Subset(\n\u001b[0;32m    202\u001b[0m         \u001b[39mself\u001b[39m\u001b[39m.\u001b[39mvalset, \u001b[39mself\u001b[39m\u001b[39m.\u001b[39mval_data_map[\u001b[39m'\u001b[39m\u001b[39mglobal_idx\u001b[39m\u001b[39m'\u001b[39m])\n\u001b[0;32m    203\u001b[0m     global_val_loader \u001b[39m=\u001b[39m DataLoader(\n\u001b[0;32m    204\u001b[0m         global_val_subset, batch_size\u001b[39m=\u001b[39m\u001b[39mself\u001b[39m\u001b[39m.\u001b[39meval_batch_size,\n\u001b[0;32m    205\u001b[0m         shuffle\u001b[39m=\u001b[39m\u001b[39mTrue\u001b[39;00m\n\u001b[0;32m    206\u001b[0m     )\n",
      "\u001b[1;31mTypeError\u001b[0m: 'NoneType' object is not subscriptable"
     ]
    }
   ],
   "source": [
    "fedavg.run()"
   ]
  }
 ],
 "metadata": {
  "kernelspec": {
   "display_name": "Python 3.9.16 ('VFL')",
   "language": "python",
   "name": "python3"
  },
  "language_info": {
   "codemirror_mode": {
    "name": "ipython",
    "version": 3
   },
   "file_extension": ".py",
   "mimetype": "text/x-python",
   "name": "python",
   "nbconvert_exporter": "python",
   "pygments_lexer": "ipython3",
   "version": "3.9.16"
  },
  "orig_nbformat": 4,
  "vscode": {
   "interpreter": {
    "hash": "81372f56c26bc2c5a7c31580102b7ff4afa04f654a03c5d11f4f83c4ed968657"
   }
  }
 },
 "nbformat": 4,
 "nbformat_minor": 2
}

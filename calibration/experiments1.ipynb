{
 "cells": [
  {
   "cell_type": "code",
   "execution_count": 1,
   "metadata": {},
   "outputs": [
    {
     "ename": "AttributeError",
     "evalue": "module 'torch' has no attribute 'data'",
     "output_type": "error",
     "traceback": [
      "\u001b[1;31m---------------------------------------------------------------------------\u001b[0m",
      "\u001b[1;31mAttributeError\u001b[0m                            Traceback (most recent call last)",
      "Cell \u001b[1;32mIn[1], line 1\u001b[0m\n\u001b[1;32m----> 1\u001b[0m \u001b[38;5;28;01mfrom\u001b[39;00m \u001b[38;5;21;01mdatasets\u001b[39;00m \u001b[38;5;28;01mimport\u001b[39;00m load_dataset\n\u001b[0;32m      2\u001b[0m \u001b[38;5;28;01mfrom\u001b[39;00m \u001b[38;5;21;01mbox\u001b[39;00m \u001b[38;5;28;01mimport\u001b[39;00m Box\n\u001b[0;32m      3\u001b[0m data_cfg \u001b[38;5;241m=\u001b[39m Box({\n\u001b[0;32m      4\u001b[0m         \u001b[38;5;124m'\u001b[39m\u001b[38;5;124mnum_clients\u001b[39m\u001b[38;5;124m'\u001b[39m: \u001b[38;5;241m10\u001b[39m,\n\u001b[0;32m      5\u001b[0m         \u001b[38;5;124m'\u001b[39m\u001b[38;5;124msplit_type\u001b[39m\u001b[38;5;124m'\u001b[39m: \u001b[38;5;124m'\u001b[39m\u001b[38;5;124mlda\u001b[39m\u001b[38;5;124m'\u001b[39m,\n\u001b[1;32m   (...)\u001b[0m\n\u001b[0;32m     11\u001b[0m         \u001b[38;5;124m'\u001b[39m\u001b[38;5;124malpha\u001b[39m\u001b[38;5;124m'\u001b[39m: \u001b[38;5;241m0.5\u001b[39m\n\u001b[0;32m     12\u001b[0m     })\n",
      "File \u001b[1;32mc:\\Users\\HONGYI001\\Desktop\\Calibration\\calibration\\datasets.py:13\u001b[0m\n\u001b[0;32m      9\u001b[0m \u001b[39mimport\u001b[39;00m \u001b[39mtorch\u001b[39;00m\n\u001b[0;32m     10\u001b[0m \u001b[39mimport\u001b[39;00m \u001b[39mnumpy\u001b[39;00m \u001b[39mas\u001b[39;00m \u001b[39mnp\u001b[39;00m\n\u001b[1;32m---> 13\u001b[0m \u001b[39mdef\u001b[39;00m \u001b[39minsert_noise\u001b[39m(dataset:torch\u001b[39m.\u001b[39;49mdata\u001b[39m.\u001b[39mDataset, \n\u001b[0;32m     14\u001b[0m                  noise_ratio, \n\u001b[0;32m     15\u001b[0m                  noise_type\u001b[39m=\u001b[39m\u001b[39m'\u001b[39m\u001b[39muniform\u001b[39m\u001b[39m'\u001b[39m,\n\u001b[0;32m     16\u001b[0m                  random_seed \u001b[39m=\u001b[39m \u001b[39m3407\u001b[39m,\n\u001b[0;32m     17\u001b[0m                  retain_filpped_idx\u001b[39m=\u001b[39m\u001b[39mFalse\u001b[39;00m):\n\u001b[0;32m     18\u001b[0m     \u001b[39m# From a dataset infer the number of classes\u001b[39;00m\n\u001b[0;32m     19\u001b[0m     \u001b[39massert\u001b[39;00m noise_type \u001b[39min\u001b[39;00m [\u001b[39m'\u001b[39m\u001b[39muniform\u001b[39m\u001b[39m'\u001b[39m, \u001b[39m'\u001b[39m\u001b[39mflip_two\u001b[39m\u001b[39m'\u001b[39m, \u001b[39m'\u001b[39m\u001b[39mflip_one\u001b[39m\u001b[39m'\u001b[39m], \u001b[39mf\u001b[39m\u001b[39m'\u001b[39m\u001b[39mUnknown noise type \u001b[39m\u001b[39m{\u001b[39;00mnoise_type\u001b[39m}\u001b[39;00m\u001b[39m'\u001b[39m\n\u001b[0;32m     20\u001b[0m     \u001b[39massert\u001b[39;00m noise_ratio \u001b[39m>\u001b[39m\u001b[39m=\u001b[39m \u001b[39m0\u001b[39m \u001b[39mand\u001b[39;00m noise_ratio \u001b[39m<\u001b[39m\u001b[39m=\u001b[39m \u001b[39m1\u001b[39m, \u001b[39mf\u001b[39m\u001b[39m'\u001b[39m\u001b[39mNoise ratio must be between 0 and 1, got \u001b[39m\u001b[39m{\u001b[39;00mnoise_ratio\u001b[39m}\u001b[39;00m\u001b[39m'\u001b[39m\n",
      "\u001b[1;31mAttributeError\u001b[0m: module 'torch' has no attribute 'data'"
     ]
    }
   ],
   "source": [
    "from datasets import load_dataset\n",
    "from box import Box\n",
    "data_cfg = Box({\n",
    "        'num_clients': 10,\n",
    "        'split_type': 'lda',\n",
    "        'require_local_test': True,\n",
    "        'require_local_val': True,\n",
    "        'global_local_ratio': 0.5,\n",
    "        'val': False,\n",
    "        'val_portion': 0.1,\n",
    "        'alpha': 0.5\n",
    "    })\n",
    "trainset, testset, valset = load_dataset('mnist', data_cfg)\n"
   ]
  }
 ],
 "metadata": {
  "kernelspec": {
   "display_name": "Python 3.9.16 ('VFL')",
   "language": "python",
   "name": "python3"
  },
  "language_info": {
   "codemirror_mode": {
    "name": "ipython",
    "version": 3
   },
   "file_extension": ".py",
   "mimetype": "text/x-python",
   "name": "python",
   "nbconvert_exporter": "python",
   "pygments_lexer": "ipython3",
   "version": "3.9.16"
  },
  "orig_nbformat": 4,
  "vscode": {
   "interpreter": {
    "hash": "81372f56c26bc2c5a7c31580102b7ff4afa04f654a03c5d11f4f83c4ed968657"
   }
  }
 },
 "nbformat": 4,
 "nbformat_minor": 2
}
